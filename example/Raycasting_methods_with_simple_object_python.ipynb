{
 "cells": [
  {
   "cell_type": "markdown",
   "metadata": {},
   "source": [
    "# Caribu with simple python object\n",
    "\n",
    "This script demonstrate how to illuminate a scene with caribu algorithms using only simple python objects.\n",
    "\n",
    "## I. Create scene and lights"
   ]
  },
  {
   "cell_type": "code",
   "execution_count": 1,
   "metadata": {
    "collapsed": true
   },
   "outputs": [],
   "source": [
    "# define geometry of triangles points\n",
    "triangle_1 = [(0, 0, 0), (1, 0, 0), (0, 1, 0)]\n",
    "triangle_2  = [(0, 0, 1e-5), (1, 0, 1e-5), (0, 1, 1e-5)]\n",
    "\n",
    "# define triangles list (scene)\n",
    "triangles = [triangle_1, triangle_2]\n",
    "\n",
    "# define optical property associate to triangle\n",
    "material_triangle_1 = (0.06, 0.04) # reflectance & transmitance\n",
    "material_triangle_2 = (0.06, 0.04) # reflectance & transmitance\n",
    "\n",
    "# define materials list \n",
    "materials = [material_triangle_1, material_triangle_2]\n",
    "\n",
    "# create a zenital light\n",
    "vertical_light = (100, # horizontal irradiance of the source\n",
    "                  (0, 0, -1)) # direction vector of the source\n",
    "\n",
    "# define light sources\n",
    "lights = [vertical_light]"
   ]
  },
  {
   "cell_type": "markdown",
   "metadata": {},
   "source": [
    "## II. Scene illumination\n",
    "\n",
    "### II.1 Show result"
   ]
  },
  {
   "cell_type": "code",
   "execution_count": 2,
   "metadata": {
    "collapsed": true
   },
   "outputs": [],
   "source": [
    "def show_result(res):\n",
    "    print \"Index of the triangles : \", res['index']\n",
    "    print \"The internal barcode : \", res['label']\n",
    "    print \"The individual areas of triangles : \", res['area']\n",
    "    print \"Surfacic density of energy : \\n\"\n",
    "    print \"\\t- absorbed by the triangles : \", res['Eabs']\n",
    "    print \"\\t- incoming on the triangles :\", res['Ei']\n",
    "    print \"\\t- incoming on the inferior face of the triangle\", res['Ei_inf']\n",
    "    print \"\\t- incoming on the superior face of the triangle\", res['Ei_sup']"
   ]
  },
  {
   "cell_type": "markdown",
   "metadata": {},
   "source": [
    "### II.2 Raycasting\n",
    "\n",
    "Raycasting allows to evaluate the direct illumination (first order = (no transmitance, no reflectance), without rediffusion) of a scene"
   ]
  },
  {
   "cell_type": "code",
   "execution_count": 3,
   "metadata": {
    "collapsed": false
   },
   "outputs": [
    {
     "name": "stdout",
     "output_type": "stream",
     "text": [
      "Index of the triangles :  [0.0, 1.0]\n",
      "The internal barcode :  ['100001001000', '100001001000']\n",
      "The individual areas of triangles :  [0.5, 0.5]\n",
      "Surfacic density of energy : \n",
      "\n",
      "\t- absorbed by the triangles :  [0.0, 89.887321]\n",
      "\t- incoming on the triangles : [0.0, 99.87480111111111]\n",
      "\t- incoming on the inferior face of the triangle [0.0, 0.0]\n",
      "\t- incoming on the superior face of the triangle [0.0, 99.874802]\n"
     ]
    }
   ],
   "source": [
    "from alinea.caribu.caribu import raycasting\n",
    "\n",
    "# call raycasting algorithm for lightening the scene\n",
    "res = raycasting(triangles, materials, lights)\n",
    "\n",
    "show_result(res)"
   ]
  },
  {
   "cell_type": "markdown",
   "metadata": {
    "collapsed": true
   },
   "source": [
    "### II.3 Radiosity\n",
    "\n",
    "Radiosity allows to evaluate the exact illumination (all orders, with rediffusions) of a scene"
   ]
  },
  {
   "cell_type": "code",
   "execution_count": 4,
   "metadata": {
    "collapsed": false
   },
   "outputs": [
    {
     "name": "stdout",
     "output_type": "stream",
     "text": [
      "Index of the triangles :  [0.0, 1.0]\n",
      "The internal barcode :  ['100001001000', '100001001000']\n",
      "The individual areas of triangles :  [0.5, 0.5]\n",
      "Surfacic density of energy : \n",
      "\n",
      "\t- absorbed by the triangles :  [3.615814, 90.104706]\n",
      "\t- incoming on the triangles : [4.017571111111111, 100.11634]\n",
      "\t- incoming on the inferior face of the triangle [0.0, 0.24154]\n",
      "\t- incoming on the superior face of the triangle [4.017571, 99.874802]\n"
     ]
    }
   ],
   "source": [
    "from alinea.caribu.caribu import radiosity\n",
    "\n",
    "res = radiosity(triangles, materials, lights)\n",
    "\n",
    "show_result(res)"
   ]
  },
  {
   "cell_type": "markdown",
   "metadata": {},
   "source": [
    "### II.3 Mixed radiosity\n",
    "\n",
    "Mixed radiosity allows to evaluate an optimised approximative solution of the illumination (all orders, with rediffusions) of an infinitly reapeated scene. The optimisation consists of using radiosity in a given neighbourhood and a turbid medium algorithm for the rest of the rediffusion."
   ]
  },
  {
   "cell_type": "code",
   "execution_count": 5,
   "metadata": {
    "collapsed": false
   },
   "outputs": [
    {
     "name": "stdout",
     "output_type": "stream",
     "text": [
      "Index of the triangles :  [0.0, 1.0]\n",
      "The internal barcode :  ['100001001000', '100001001000']\n",
      "The individual areas of triangles :  [0.5, 0.5]\n",
      "Surfacic density of energy : \n",
      "\n",
      "\t- absorbed by the triangles :  [3.620033, 90.209846]\n",
      "\t- incoming on the triangles : [4.022258888888889, 100.23316222222222]\n",
      "\t- incoming on the inferior face of the triangle [0.0, 0.241822]\n",
      "\t- incoming on the superior face of the triangle [4.022259, 99.991341]\n"
     ]
    }
   ],
   "source": [
    "from alinea.caribu.caribu import mixed_radiosity\n",
    "\n",
    "# number of layers for running the turbid medium algrothm\n",
    "layers = 2\n",
    "\n",
    "# height of the canopy\n",
    "height = 1\n",
    "\n",
    "soil_reflectance = 0.2\n",
    "\n",
    "# 2D Coordinates of the domain bounding the scene for its replication.\n",
    "# (xmin, ymin, xmax, ymax)\n",
    "domain = (0, 0, 1, 1)\n",
    "\n",
    "# diameter of the sphere defining the close neighbourhood for local radiosity.\n",
    "diameter = 0.1\n",
    "\n",
    "res = mixed_radiosity(triangles, materials, lights, domain, soil_reflectance, diameter, layers, height)\n",
    "\n",
    "show_result(res)"
   ]
  },
  {
   "cell_type": "code",
   "execution_count": 4,
   "metadata": {
    "collapsed": false
   },
   "outputs": [
    {
     "name": "stderr",
     "output_type": "stream",
     "text": [
      "c:\\python27\\lib\\site-packages\\ipykernel\\__main__.py:4: DeprecationWarning: test\n"
     ]
    }
   ],
   "source": [
    "import warnings\n",
    "\n",
    "def f():\n",
    "    warnings.warn(\"test\", DeprecationWarning)\n",
    "    \n",
    "f()"
   ]
  },
  {
   "cell_type": "code",
   "execution_count": null,
   "metadata": {
    "collapsed": true
   },
   "outputs": [],
   "source": []
  }
 ],
 "metadata": {
  "kernelspec": {
   "display_name": "Python 2",
   "language": "python",
   "name": "python2"
  },
  "language_info": {
   "codemirror_mode": {
    "name": "ipython",
    "version": 2
   },
   "file_extension": ".py",
   "mimetype": "text/x-python",
   "name": "python",
   "nbconvert_exporter": "python",
   "pygments_lexer": "ipython2",
   "version": "2.7.11"
  }
 },
 "nbformat": 4,
 "nbformat_minor": 0
}
